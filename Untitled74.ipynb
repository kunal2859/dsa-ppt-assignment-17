{
 "cells": [
  {
   "cell_type": "code",
   "execution_count": 1,
   "id": "cb26d05d",
   "metadata": {},
   "outputs": [
    {
     "name": "stdout",
     "output_type": "stream",
     "text": [
      "0\n"
     ]
    }
   ],
   "source": [
    "from queue import Queue\n",
    "def firstNonRepeatingChar(s):\n",
    "    queue = Queue()\n",
    "    frequency = {}\n",
    "    for char in s:\n",
    "        queue.put(char)\n",
    "        frequency[char] = frequency.get(char, 0) + 1\n",
    "\n",
    "    for i in range(len(s)):\n",
    "        char = queue.get()\n",
    "        if frequency[char] == 1:\n",
    "            return i\n",
    "    return -1\n",
    "\n",
    "string = \"leetcode\"\n",
    "result = firstNonRepeatingChar(string)\n",
    "print(result)"
   ]
  },
  {
   "cell_type": "code",
   "execution_count": 3,
   "id": "d6947b59",
   "metadata": {},
   "outputs": [
    {
     "data": {
      "text/plain": [
       "3"
      ]
     },
     "execution_count": 3,
     "metadata": {},
     "output_type": "execute_result"
    }
   ],
   "source": [
    "def maxSubarraySumCircular(nums):\n",
    "    maxSum,minSum,curMin,curMax,sum=(nums[0],nums[0],0,0,0)\n",
    "    for val in nums:\n",
    "        curMax=curMax+val if curMax+val>=val else val\n",
    "        maxSum=max(curMax,maxSum)\n",
    "        curMin=curMin+val if curMin+val<=val else val\n",
    "        minSum=min(minSum,curMin)\n",
    "        sum+=val\n",
    "    return maxSum if sum==minSum else max(maxSum,sum-minSum)\n",
    "\n",
    "nums=[1,-2,3,-2]\n",
    "maxSubarraySumCircular(nums)"
   ]
  },
  {
   "cell_type": "code",
   "execution_count": 4,
   "id": "04a37fdc",
   "metadata": {},
   "outputs": [
    {
     "data": {
      "text/plain": [
       "0"
      ]
     },
     "execution_count": 4,
     "metadata": {},
     "output_type": "execute_result"
    }
   ],
   "source": [
    "def students_count(students,sandwiches):\n",
    "    count = 0\n",
    "    while len(students) > count:\n",
    "        if students[0] == sandwiches[0]:\n",
    "            sandwiches.pop(0)\n",
    "            count = 0\n",
    "        else:\n",
    "            students.append(students[0])\n",
    "            count+=1\n",
    "\n",
    "        students.pop(0)\n",
    "    return len(students)\n",
    "\n",
    "students = [1,1,0,0]\n",
    "sandwiches = [0,1,0,1]\n",
    "students_count(students,sandwiches)"
   ]
  },
  {
   "cell_type": "code",
   "execution_count": 12,
   "id": "81434a6e",
   "metadata": {},
   "outputs": [
    {
     "name": "stdout",
     "output_type": "stream",
     "text": [
      "1\n",
      "2\n",
      "3\n",
      "3\n"
     ]
    }
   ],
   "source": [
    "import collections\n",
    "class RecentCounter:\n",
    "\n",
    "    def __init__(self):\n",
    "        self.queue = collections.deque()\n",
    "\n",
    "    def ping(self,t):\n",
    "        while self.queue and t - self.queue[0] > 3000:\n",
    "            self.queue.popleft()\n",
    "        self.queue.append(t)\n",
    "        \n",
    "        return len(self.queue)\n",
    "\n",
    "recentCounter=RecentCounter()\n",
    "print(recentCounter.ping(1))\n",
    "print(recentCounter.ping(100))\n",
    "print(recentCounter.ping(3001))\n",
    "print(recentCounter.ping(3002))"
   ]
  },
  {
   "cell_type": "code",
   "execution_count": 15,
   "id": "4d82d958",
   "metadata": {},
   "outputs": [
    {
     "data": {
      "text/plain": [
       "3"
      ]
     },
     "execution_count": 15,
     "metadata": {},
     "output_type": "execute_result"
    }
   ],
   "source": [
    "from collections import deque\n",
    "def winner(n,k):\n",
    "    dq=deque()\n",
    "    for i in range(1,n+1):\n",
    "        dq.append(i)\n",
    "    while dq:\n",
    "        temp=k-1\n",
    "        while temp>0:\n",
    "            dq.append(dq.popleft())\n",
    "            temp-=1\n",
    "        ele=dq.popleft()\n",
    "    return ele\n",
    "\n",
    "n=5\n",
    "k=2\n",
    "winner(n,k)"
   ]
  },
  {
   "cell_type": "code",
   "execution_count": 17,
   "id": "363b3769",
   "metadata": {},
   "outputs": [
    {
     "data": {
      "text/plain": [
       "[2, 13, 3, 11, 5, 17, 7]"
      ]
     },
     "execution_count": 17,
     "metadata": {},
     "output_type": "execute_result"
    }
   ],
   "source": [
    "def deck_reveal(deck):\n",
    "    N = len(deck)\n",
    "    index = collections.deque(range(N))\n",
    "    ans = [None] * N\n",
    "\n",
    "    for card in sorted(deck):\n",
    "        ans[index.popleft()] = card\n",
    "        if index:\n",
    "            index.append(index.popleft())\n",
    "\n",
    "    return ans\n",
    "\n",
    "deck = [17,13,11,2,3,5,7]\n",
    "deck_reveal(deck)"
   ]
  },
  {
   "cell_type": "code",
   "execution_count": 19,
   "id": "2b77c352",
   "metadata": {},
   "outputs": [
    {
     "name": "stdout",
     "output_type": "stream",
     "text": [
      "None\n",
      "None\n",
      "None\n",
      "None\n",
      "1\n",
      "3\n",
      "4\n",
      "2\n",
      "-1\n"
     ]
    }
   ],
   "source": [
    "class FrontMiddleBackQueue:\n",
    "\n",
    "    def __init__(self):\n",
    "        self.queue=[]\n",
    "\n",
    "    def pushFront(self, val):\n",
    "        self.queue.insert(0,val)\n",
    "\n",
    "    def pushMiddle(self, val):\n",
    "        n=len(self.queue)\n",
    "        self.queue.insert(n//2,val)\n",
    "\n",
    "    def pushBack(self, val):\n",
    "        self.queue.append(val)\n",
    "\n",
    "    def popFront(self):\n",
    "        if len(self.queue)==0:\n",
    "            return -1    \n",
    "        return self.queue.pop(0)\n",
    "\n",
    "    def popMiddle(self):\n",
    "        if len(self.queue)==0:\n",
    "            return -1\n",
    "        n=len(self.queue)\n",
    "        if n%2==0:\n",
    "            n=(n//2)-1\n",
    "        else:\n",
    "            n=int(n//2)\n",
    "        return self.queue.pop(n)\n",
    "\n",
    "    def popBack(self):\n",
    "        if len(self.queue)==0:\n",
    "            return -1 \n",
    "        return self.queue.pop()\n",
    "\n",
    "q=FrontMiddleBackQueue()\n",
    "print(q.pushFront(1))\n",
    "print(q.pushBack(2))\n",
    "print(q.pushMiddle(3))\n",
    "print(q.pushMiddle(4))\n",
    "print(q.popFront())\n",
    "print(q.popMiddle())\n",
    "print(q.popMiddle())\n",
    "print(q.popBack())\n",
    "print(q.popFront())"
   ]
  },
  {
   "cell_type": "code",
   "execution_count": 25,
   "id": "5070163b",
   "metadata": {},
   "outputs": [
    {
     "name": "stdout",
     "output_type": "stream",
     "text": [
      "None\n",
      "None\n",
      "True\n",
      "False\n"
     ]
    }
   ],
   "source": [
    "class DataStream:\n",
    "\n",
    "    def __init__(self, value, k):\n",
    "        self.key_ = value\n",
    "        self.target_counter_ = k\n",
    "        self.counter_ = 0\n",
    "\n",
    "    def consec(self, num):\n",
    "        if num == self.key_:\n",
    "            self.counter_ += 1\n",
    "            if self.counter_ == self.target_counter_:\n",
    "                self.counter_ -= 1\n",
    "                return True\n",
    "        else:\n",
    "            self.counter_ = 0\n",
    "            return False\n",
    "\n",
    "data=DataStream(4,3)\n",
    "print(data.consec(4))\n",
    "print(data.consec(4))\n",
    "print(data.consec(4))\n",
    "print(data.consec(3))"
   ]
  }
 ],
 "metadata": {
  "kernelspec": {
   "display_name": "Python 3 (ipykernel)",
   "language": "python",
   "name": "python3"
  },
  "language_info": {
   "codemirror_mode": {
    "name": "ipython",
    "version": 3
   },
   "file_extension": ".py",
   "mimetype": "text/x-python",
   "name": "python",
   "nbconvert_exporter": "python",
   "pygments_lexer": "ipython3",
   "version": "3.9.13"
  }
 },
 "nbformat": 4,
 "nbformat_minor": 5
}
